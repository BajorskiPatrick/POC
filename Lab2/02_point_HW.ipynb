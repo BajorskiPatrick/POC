{
 "cells": [
  {
   "cell_type": "markdown",
   "metadata": {
    "collapsed": false,
    "id": "m5Q2hnDC3NuL",
    "jupyter": {
     "outputs_hidden": false
    }
   },
   "source": [
    "# Zadanie domowe\n",
    "\n",
    "W przypadku obrazów w odcieniach szarości pojedynczy piksel z zakresu [0; 255] reprezentowany jest jako 8-bitowa liczba bez znaku.\n",
    "Pewnym rozszerzeniem analizy sposobu reprezentacji obrazu może być następujący eksperyment.\n",
    "Załóżmy, że z każdego z 8 bitów możemy stworzyć pojedynczy obraz binarny (ang. _bit-plane slicing_).\n",
    "Dla obrazka _100zloty.jpg_ (https://raw.githubusercontent.com/vision-agh/poc_sw/master/02_Point/100zloty.jpg) stwórz 8 obrazów, z których każdy powinien zawierać jedną płaszczyznę bitową.\n",
    "Podpowiedź $-$ warto sprawdzić, jak realizuje się bitowe operacje logiczne.\n",
    "Zastosowanie takiej dekompozycji obrazu pozwala na analizę ,,ważności'' poszczególnych bitów.\n",
    "Jest to użyteczne w kwantyzacji, ale także w kompresji.\n",
    "\n",
    "W drugim etapie zadania proszę spróbować odtworzyć obraz oryginalny z mniejszej liczby obrazów binarnych.\n",
    "Warto zacząć od dwóch najbardziej znaczących bitów, a później dodawać kolejne.\n",
    "Należy utworzyć co najmniej trzy wersje zrekonstruowanych obrazów.\n",
    "Podpowiedź $-$ rekonstrukcja obrazu to mnożenie przez odpowiednią potęgę liczby 2 (przesunięcie bitowe) oraz dodawanie."
   ]
  },
  {
   "cell_type": "code",
   "execution_count": 1,
   "metadata": {
    "id": "tsKtFztv4T2l"
   },
   "outputs": [],
   "source": [
    "import cv2\n",
    "import os\n",
    "import requests\n",
    "import matplotlib.pyplot as plt\n",
    "import numpy as np\n",
    "\n",
    "url = 'https://raw.githubusercontent.com/vision-agh/poc_sw/master/02_Point/'\n",
    "fileName = '100zloty.jpg'\n",
    "if not os.path.exists(fileName) :\n",
    "    r = requests.get(url + fileName, allow_redirects=True)\n",
    "    open(fileName, 'wb').write(r.content)"
   ]
  },
  {
   "cell_type": "code",
   "execution_count": null,
   "metadata": {},
   "outputs": [],
   "source": [
    "img = cv2.imread(fileName, cv2.IMREAD_GRAYSCALE)\n",
    "\n",
    "bit_planes = []\n",
    "for i in range(8):\n",
    "    bit_plane = (img >> i) & 1\n",
    "    bit_plane = (bit_plane * 255).astype(np.uint8)\n",
    "    bit_planes.append(bit_plane)\n",
    "\n",
    "plt.figure(figsize=(12, 6))\n",
    "for i in range(8):\n",
    "    plt.subplot(2, 4, i + 1)\n",
    "    plt.imshow(bit_planes[i], cmap='gray')\n",
    "    plt.title(f'Bit plane {i}')\n",
    "    plt.axis('off')\n",
    "plt.suptitle('Płaszczyzny bitowe (od najmniej do najbardziej znaczącego bitu)')\n",
    "plt.tight_layout()\n",
    "plt.show()\n",
    "\n",
    "\n",
    "recon_2bits = ((bit_planes[7] // 255) << 7) + ((bit_planes[6] // 255) << 6)\n",
    "\n",
    "recon_4bits = sum(((bit_planes[i] // 255) << i) for i in range(4, 8))\n",
    "\n",
    "recon_6bits = sum(((bit_planes[i] // 255) << i) for i in range(2, 8))\n",
    "\n",
    "plt.figure(figsize=(12, 4))\n",
    "titles = ['Oryginalny obraz', '2 bity (6-7)', '4 bity (4-7)', '6 bitów (2-7)']\n",
    "images = [img, recon_2bits, recon_4bits, recon_6bits]\n",
    "\n",
    "for i in range(4):\n",
    "    plt.subplot(1, 4, i + 1)\n",
    "    plt.imshow(images[i], cmap='gray')\n",
    "    plt.title(titles[i])\n",
    "    plt.axis('off')\n",
    "\n",
    "plt.suptitle('Rekonstrukcja obrazu z różnych liczby płaszczyzn bitowych')\n",
    "plt.tight_layout()\n",
    "plt.show()"
   ]
  },
  {
   "cell_type": "code",
   "execution_count": null,
   "metadata": {},
   "outputs": [],
   "source": [
    "img_bgr = cv2.imread(fileName)\n",
    "\n",
    "def construct_color_image(r_planes, g_planes, b_planes, start_bit=0, end_bit=7):\n",
    "    r = sum(((r_planes[i] // 255) << i) for i in range(start_bit, end_bit + 1))\n",
    "    g = sum(((g_planes[i] // 255) << i) for i in range(start_bit, end_bit + 1))\n",
    "    b = sum(((b_planes[i] // 255) << i) for i in range(start_bit, end_bit + 1))\n",
    "    return np.stack([r, g, b], axis=-1).astype(np.uint8)\n",
    "\n",
    "def bit_planes_for_channel(channel):\n",
    "    planes = []\n",
    "    for i in range(8):\n",
    "        plane = (channel >> i) & 1\n",
    "        plane = (plane * 255).astype(np.uint8)\n",
    "        planes.append(plane)\n",
    "    return planes\n",
    "\n",
    "b_planes = bit_planes_for_channel(img_rgb[:, :, 0])  # Blue\n",
    "g_planes = bit_planes_for_channel(img_rgb[:, :, 1])  # Green\n",
    "r_planes = bit_planes_for_channel(img_rgb[:, :, 2])  # Red\n",
    "\n",
    "binaries = []\n",
    "num_bits = 8\n",
    "for i in range(num_bits):\n",
    "    binary = (img_bgr >> i) & 1\n",
    "    binary = (binary * 255).astype(np.uint8)\n",
    "    binaries.append(binary)\n",
    "\n",
    "fig, axes = plt.subplots(8, 1, figsize=(32, 16))\n",
    "for i in range(8):\n",
    "    axes[i].imshow(binaries[i])\n",
    "    axes[i].set_title(f'Bit {i}')\n",
    "    axes[i].axis('off')\n",
    "\n",
    "plt.tight_layout()\n",
    "plt.show()\n",
    "\n",
    "recon_2bits = construct_color_image(r_planes, g_planes, b_planes, 6, 7)\n",
    "recon_4bits = construct_color_image(r_planes, g_planes, b_planes, 4, 7)\n",
    "recon_6bits = construct_color_image(r_planes, g_planes, b_planes, 2, 7)\n",
    "\n",
    "plt.figure(figsize=(12, 4))\n",
    "titles = ['Oryginalny obraz', '2 bity (6–7)', '4 bity (4–7)', '6 bitów (2–7)']\n",
    "images = [img_rgb, recon_2bits, recon_4bits, recon_6bits]\n",
    "\n",
    "for i in range(4):\n",
    "    plt.subplot(1, 4, i + 1)\n",
    "    plt.imshow(images[i])\n",
    "    plt.title(titles[i])\n",
    "    plt.axis('off')\n",
    "\n",
    "plt.suptitle('Rekonstrukcja kolorowego obrazu z różnych liczby płaszczyzn bitowych')\n",
    "plt.tight_layout()\n",
    "plt.show()"
   ]
  }
 ],
 "metadata": {
  "colab": {
   "provenance": []
  },
  "kernelspec": {
   "display_name": "Python 3 (ipykernel)",
   "language": "python",
   "name": "python3"
  },
  "language_info": {
   "codemirror_mode": {
    "name": "ipython",
    "version": 3
   },
   "file_extension": ".py",
   "mimetype": "text/x-python",
   "name": "python",
   "nbconvert_exporter": "python",
   "pygments_lexer": "ipython3",
   "version": "3.11.13"
  }
 },
 "nbformat": 4,
 "nbformat_minor": 4
}
